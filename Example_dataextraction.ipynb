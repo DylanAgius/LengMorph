{
 "cells": [
  {
   "cell_type": "markdown",
   "metadata": {},
   "source": [
    "# Example using of lengmorph to extract data arrays need to apply length scale modification for crystal plasticity"
   ]
  },
  {
   "cell_type": "markdown",
   "metadata": {},
   "source": [
    "Two posibilities to construct the data arrays can be applied:\n",
    "* increasing nodes per voxel which will improve vector calculations in two-dimensional (1 element thick) cases.\n",
    "* using the minimum number of nodes which is usually more than sufficient.\n",
    "\n",
    "The data extracted from DREAM.3D which should be included in the *data* folder are the following:\n",
    "* fname_nodes.inp\n",
    "* fname_elems.inp\n",
    "* fname_gbels.inp\n",
    "* fname.csv"
   ]
  },
  {
   "cell_type": "markdown",
   "metadata": {},
   "source": [
    "## Example with the option to increase nodes per voxel"
   ]
  },
  {
   "cell_type": "code",
   "execution_count": 1,
   "metadata": {},
   "outputs": [],
   "source": [
    "import lengmorph as lengmorph\n",
    "\n",
    "#load information produced by DREAM.3D\n",
    "load=lengmorph.load_info('testcase')\n",
    "\n",
    "#If you would like to increase the nodes defining each voxel,\n",
    "#you can use the following function\n",
    "load.increase_nodes()\n",
    "\n",
    "#Since the node increase option is being used, this must be made known when \n",
    "#using the function to create the data array files using *True* for nodeinc\n",
    "load.grain_boundary(nodeinc=True)\n"
   ]
  },
  {
   "cell_type": "markdown",
   "metadata": {},
   "source": [
    "## Example with the option to increase nodes not used"
   ]
  },
  {
   "cell_type": "code",
   "execution_count": 2,
   "metadata": {},
   "outputs": [],
   "source": [
    "import lengmorph as lengmorph\n",
    "\n",
    "#load information produced by DREAM.3D\n",
    "load=lengmorph.load_info('testcase')\n",
    "\n",
    "#Since the node increase option is not used, *False* is used instead of \n",
    "#*True* for nodeinc\n",
    "load.grain_boundary(nodeinc=False)"
   ]
  },
  {
   "cell_type": "code",
   "execution_count": null,
   "metadata": {},
   "outputs": [],
   "source": []
  }
 ],
 "metadata": {
  "kernelspec": {
   "display_name": "Python 3",
   "language": "python",
   "name": "python3"
  },
  "language_info": {
   "codemirror_mode": {
    "name": "ipython",
    "version": 3
   },
   "file_extension": ".py",
   "mimetype": "text/x-python",
   "name": "python",
   "nbconvert_exporter": "python",
   "pygments_lexer": "ipython3",
   "version": "3.7.6"
  }
 },
 "nbformat": 4,
 "nbformat_minor": 4
}
